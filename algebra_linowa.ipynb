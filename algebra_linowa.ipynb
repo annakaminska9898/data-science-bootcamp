{
  "nbformat": 4,
  "nbformat_minor": 0,
  "metadata": {
    "colab": {
      "name": "algebra_linowa.ipynb",
      "provenance": [],
      "authorship_tag": "ABX9TyOLX4GwpoTtoUzc1+hUVmGH",
      "include_colab_link": true
    },
    "kernelspec": {
      "name": "python3",
      "display_name": "Python 3"
    },
    "language_info": {
      "name": "python"
    }
  },
  "cells": [
    {
      "cell_type": "markdown",
      "metadata": {
        "id": "view-in-github",
        "colab_type": "text"
      },
      "source": [
        "<a href=\"https://colab.research.google.com/github/annakaminska9898/data-science-bootcamp/blob/main/algebra_linowa.ipynb\" target=\"_parent\"><img src=\"https://colab.research.google.com/assets/colab-badge.svg\" alt=\"Open In Colab\"/></a>"
      ]
    },
    {
      "cell_type": "code",
      "metadata": {
        "colab": {
          "base_uri": "https://localhost:8080/"
        },
        "id": "s4Y3EhnWADzi",
        "outputId": "0eaaed37-d169-4c38-e9cb-e0e1067da039"
      },
      "source": [
        "#ALGEBRA LINIOWA\n",
        "\n",
        "import numpy as np\n",
        "\n",
        "v1 = np.array([-1,4])\n",
        "v1\n"
      ],
      "execution_count": 6,
      "outputs": [
        {
          "output_type": "execute_result",
          "data": {
            "text/plain": [
              "array([-1,  4])"
            ]
          },
          "metadata": {},
          "execution_count": 6
        }
      ]
    },
    {
      "cell_type": "code",
      "metadata": {
        "colab": {
          "base_uri": "https://localhost:8080/"
        },
        "id": "0xAKg3HNTZ0A",
        "outputId": "113fcaf0-4c07-4435-9c82-452ec9c1984a"
      },
      "source": [
        "\n",
        "np.linalg.norm(v1)"
      ],
      "execution_count": 7,
      "outputs": [
        {
          "output_type": "execute_result",
          "data": {
            "text/plain": [
              "4.123105625617661"
            ]
          },
          "metadata": {},
          "execution_count": 7
        }
      ]
    },
    {
      "cell_type": "code",
      "metadata": {
        "id": "_HuTAJvRTodw"
      },
      "source": [
        "v2= np.array([-10,10,13])"
      ],
      "execution_count": 8,
      "outputs": []
    },
    {
      "cell_type": "code",
      "metadata": {
        "colab": {
          "base_uri": "https://localhost:8080/"
        },
        "id": "kuHEPi6rUBm2",
        "outputId": "0b2c5c89-2fe4-49f9-e12b-ad2a67c6866d"
      },
      "source": [
        "np.linalg.norm(v2)"
      ],
      "execution_count": 10,
      "outputs": [
        {
          "output_type": "execute_result",
          "data": {
            "text/plain": [
              "19.209372712298546"
            ]
          },
          "metadata": {},
          "execution_count": 10
        }
      ]
    },
    {
      "cell_type": "code",
      "metadata": {
        "colab": {
          "base_uri": "https://localhost:8080/"
        },
        "id": "lgSkI31xUFcT",
        "outputId": "52504a48-5766-48ae-a557-78ddb311cb18"
      },
      "source": [
        "#odległość dwóch punktów na płaszczyźnie\n",
        "p = np.array([3,0])\n",
        "q = np.array([0,4])\n",
        "\n",
        "np.linalg.norm(p - q)"
      ],
      "execution_count": 17,
      "outputs": [
        {
          "output_type": "execute_result",
          "data": {
            "text/plain": [
              "5.0"
            ]
          },
          "metadata": {},
          "execution_count": 17
        }
      ]
    },
    {
      "cell_type": "code",
      "metadata": {
        "colab": {
          "base_uri": "https://localhost:8080/"
        },
        "id": "FcNbgb5oUw56",
        "outputId": "9c938e2d-3a3b-4232-99d5-0c184536a65e"
      },
      "source": [
        "#odległość dwch punktów w przestzreni\n",
        "p = np.array([3,0,1])\n",
        "q = np.array([0,4,2])\n",
        "\n",
        "np.linalg.norm(p-q)"
      ],
      "execution_count": 18,
      "outputs": [
        {
          "output_type": "execute_result",
          "data": {
            "text/plain": [
              "5.0990195135927845"
            ]
          },
          "metadata": {},
          "execution_count": 18
        }
      ]
    },
    {
      "cell_type": "code",
      "metadata": {
        "colab": {
          "base_uri": "https://localhost:8080/"
        },
        "id": "sfXk1ZzLVqSJ",
        "outputId": "0dbd914c-fd6c-4e16-b734-9cd5fe58aab5"
      },
      "source": [
        "#mnorzenie macierzy \n",
        "\n",
        "x= np.array([[5,3],[3,9]])\n",
        "y= np.array([[1],[-1]])\n",
        "print(x, '\\n')\n",
        "print(y)"
      ],
      "execution_count": 21,
      "outputs": [
        {
          "output_type": "stream",
          "name": "stdout",
          "text": [
            "[[5 3]\n",
            " [3 9]] \n",
            "\n",
            "[[ 1]\n",
            " [-1]]\n"
          ]
        }
      ]
    },
    {
      "cell_type": "code",
      "metadata": {
        "colab": {
          "base_uri": "https://localhost:8080/"
        },
        "id": "2CCHiEkWWrm1",
        "outputId": "8fd785b3-ece5-44ac-cc23-ee535ffac62a"
      },
      "source": [
        "z = np.dot(x,y)\n",
        "z"
      ],
      "execution_count": 22,
      "outputs": [
        {
          "output_type": "execute_result",
          "data": {
            "text/plain": [
              "array([[ 2],\n",
              "       [-6]])"
            ]
          },
          "metadata": {},
          "execution_count": 22
        }
      ]
    },
    {
      "cell_type": "code",
      "metadata": {
        "colab": {
          "base_uri": "https://localhost:8080/"
        },
        "id": "6mPevaFgW-aj",
        "outputId": "a1b817ca-0319-4716-d659-70d3a45a743f"
      },
      "source": [
        "x.shape"
      ],
      "execution_count": 23,
      "outputs": [
        {
          "output_type": "execute_result",
          "data": {
            "text/plain": [
              "(2, 2)"
            ]
          },
          "metadata": {},
          "execution_count": 23
        }
      ]
    },
    {
      "cell_type": "code",
      "metadata": {
        "colab": {
          "base_uri": "https://localhost:8080/"
        },
        "id": "KvBqOqjHXDsM",
        "outputId": "ef158be2-be80-42bd-a6d7-02b39cf7acca"
      },
      "source": [
        "y.shape"
      ],
      "execution_count": 24,
      "outputs": [
        {
          "output_type": "execute_result",
          "data": {
            "text/plain": [
              "(2, 1)"
            ]
          },
          "metadata": {},
          "execution_count": 24
        }
      ]
    },
    {
      "cell_type": "code",
      "metadata": {
        "colab": {
          "base_uri": "https://localhost:8080/"
        },
        "id": "4dwPO2rFXEuI",
        "outputId": "af9e492a-339a-4f6e-9414-d3d55baeafe9"
      },
      "source": [
        "z.shape"
      ],
      "execution_count": 25,
      "outputs": [
        {
          "output_type": "execute_result",
          "data": {
            "text/plain": [
              "(2, 1)"
            ]
          },
          "metadata": {},
          "execution_count": 25
        }
      ]
    },
    {
      "cell_type": "code",
      "metadata": {
        "colab": {
          "base_uri": "https://localhost:8080/"
        },
        "id": "BGSjo411XFyg",
        "outputId": "263f0d67-9225-4cc9-f785-2db979b52637"
      },
      "source": [
        "x = np.array([[2,3,5],\n",
        "              [3,4,5]])\n",
        "y= np.array([[3,4,6],\n",
        "             [5,6,7],\n",
        "             [7,8,9]])\n",
        "\n",
        "print(x, '\\n')\n",
        "print(y)"
      ],
      "execution_count": 28,
      "outputs": [
        {
          "output_type": "stream",
          "name": "stdout",
          "text": [
            "[[2 3 5]\n",
            " [3 4 5]] \n",
            "\n",
            "[[3 4 6]\n",
            " [5 6 7]\n",
            " [7 8 9]]\n"
          ]
        }
      ]
    },
    {
      "cell_type": "code",
      "metadata": {
        "colab": {
          "base_uri": "https://localhost:8080/"
        },
        "id": "phCk3HobXnJQ",
        "outputId": "9cfff56c-5051-4651-e772-abcf6792bcbb"
      },
      "source": [
        "np.dot(x,y)"
      ],
      "execution_count": 29,
      "outputs": [
        {
          "output_type": "execute_result",
          "data": {
            "text/plain": [
              "array([[56, 66, 78],\n",
              "       [64, 76, 91]])"
            ]
          },
          "metadata": {},
          "execution_count": 29
        }
      ]
    },
    {
      "cell_type": "code",
      "metadata": {
        "colab": {
          "base_uri": "https://localhost:8080/"
        },
        "id": "XWguG0NnXxCa",
        "outputId": "5c645c4c-a213-4d39-c63c-0c09fd9cdbdf"
      },
      "source": [
        "#wyznacznik macierzy\n",
        "\n",
        "A= np.array([[2,4],[-1,3]])\n",
        "round(np.linalg.det(A))"
      ],
      "execution_count": 32,
      "outputs": [
        {
          "output_type": "execute_result",
          "data": {
            "text/plain": [
              "10"
            ]
          },
          "metadata": {},
          "execution_count": 32
        }
      ]
    },
    {
      "cell_type": "code",
      "metadata": {
        "colab": {
          "base_uri": "https://localhost:8080/"
        },
        "id": "dZm2VcAjYuq-",
        "outputId": "78cd1b2c-6ea3-4a63-b533-a34ab86a3227"
      },
      "source": [
        "#ślad macierzy\n",
        "\n",
        "np.trace(A)"
      ],
      "execution_count": 33,
      "outputs": [
        {
          "output_type": "execute_result",
          "data": {
            "text/plain": [
              "5"
            ]
          },
          "metadata": {},
          "execution_count": 33
        }
      ]
    },
    {
      "cell_type": "code",
      "metadata": {
        "colab": {
          "base_uri": "https://localhost:8080/"
        },
        "id": "hru2LBDqY-0j",
        "outputId": "0abcfe70-4aea-4e87-8a53-d36062bfc845"
      },
      "source": [
        "#macierz jednostkowa\n",
        "\n",
        "np.eye(5, dtype=\"int\")"
      ],
      "execution_count": 34,
      "outputs": [
        {
          "output_type": "execute_result",
          "data": {
            "text/plain": [
              "array([[1, 0, 0, 0, 0],\n",
              "       [0, 1, 0, 0, 0],\n",
              "       [0, 0, 1, 0, 0],\n",
              "       [0, 0, 0, 1, 0],\n",
              "       [0, 0, 0, 0, 1]])"
            ]
          },
          "metadata": {},
          "execution_count": 34
        }
      ]
    },
    {
      "cell_type": "code",
      "metadata": {
        "colab": {
          "base_uri": "https://localhost:8080/"
        },
        "id": "75jvP77XZRj3",
        "outputId": "dc798349-26ef-4f2d-9e8c-e0bf830d89af"
      },
      "source": [
        "np.eye(3)"
      ],
      "execution_count": 35,
      "outputs": [
        {
          "output_type": "execute_result",
          "data": {
            "text/plain": [
              "array([[1., 0., 0.],\n",
              "       [0., 1., 0.],\n",
              "       [0., 0., 1.]])"
            ]
          },
          "metadata": {},
          "execution_count": 35
        }
      ]
    },
    {
      "cell_type": "code",
      "metadata": {
        "colab": {
          "base_uri": "https://localhost:8080/"
        },
        "id": "7B8aiEsdZYFu",
        "outputId": "907eec1d-fd15-4dba-f2c3-d5c5c3aedf68"
      },
      "source": [
        "#macierz odwrotna\n",
        "\n",
        "A"
      ],
      "execution_count": 36,
      "outputs": [
        {
          "output_type": "execute_result",
          "data": {
            "text/plain": [
              "array([[ 2,  4],\n",
              "       [-1,  3]])"
            ]
          },
          "metadata": {},
          "execution_count": 36
        }
      ]
    },
    {
      "cell_type": "code",
      "metadata": {
        "id": "oM0ucUhYZm_3"
      },
      "source": [
        "B = np.linalg.inv(A)"
      ],
      "execution_count": 37,
      "outputs": []
    },
    {
      "cell_type": "code",
      "metadata": {
        "colab": {
          "base_uri": "https://localhost:8080/"
        },
        "id": "mfQcSoLxZsvc",
        "outputId": "4cf52a73-0a90-4409-921b-3bb84871b957"
      },
      "source": [
        "B"
      ],
      "execution_count": 38,
      "outputs": [
        {
          "output_type": "execute_result",
          "data": {
            "text/plain": [
              "array([[ 0.3, -0.4],\n",
              "       [ 0.1,  0.2]])"
            ]
          },
          "metadata": {},
          "execution_count": 38
        }
      ]
    },
    {
      "cell_type": "code",
      "metadata": {
        "colab": {
          "base_uri": "https://localhost:8080/"
        },
        "id": "jOJLxwFyZuJ7",
        "outputId": "78b99565-c6c3-446b-a027-b5484ddb842e"
      },
      "source": [
        "np.set_printoptions(precision=4, suppress=True)\n",
        "\n",
        "np.dot(A,B)"
      ],
      "execution_count": 41,
      "outputs": [
        {
          "output_type": "execute_result",
          "data": {
            "text/plain": [
              "array([[1., 0.],\n",
              "       [0., 1.]])"
            ]
          },
          "metadata": {},
          "execution_count": 41
        }
      ]
    },
    {
      "cell_type": "code",
      "metadata": {
        "colab": {
          "base_uri": "https://localhost:8080/"
        },
        "id": "SMJ78pN8ZyYS",
        "outputId": "81e75567-2e6a-4b9e-eea7-d4df37c579dc"
      },
      "source": [
        "np.dot(B,A)"
      ],
      "execution_count": 42,
      "outputs": [
        {
          "output_type": "execute_result",
          "data": {
            "text/plain": [
              "array([[ 1., -0.],\n",
              "       [ 0.,  1.]])"
            ]
          },
          "metadata": {},
          "execution_count": 42
        }
      ]
    },
    {
      "cell_type": "code",
      "metadata": {
        "colab": {
          "base_uri": "https://localhost:8080/"
        },
        "id": "CdS6dLlFaOQz",
        "outputId": "96a55bf4-4cc0-4d93-e0f8-0e0f8f9bc2ac"
      },
      "source": [
        "#macierz transponowana\n",
        "\n",
        "A"
      ],
      "execution_count": 43,
      "outputs": [
        {
          "output_type": "execute_result",
          "data": {
            "text/plain": [
              "array([[ 2,  4],\n",
              "       [-1,  3]])"
            ]
          },
          "metadata": {},
          "execution_count": 43
        }
      ]
    },
    {
      "cell_type": "code",
      "metadata": {
        "colab": {
          "base_uri": "https://localhost:8080/"
        },
        "id": "HhxjGZZjaTmi",
        "outputId": "76cb7f7e-1b0b-4d77-8319-90323a80396a"
      },
      "source": [
        "A.T\n"
      ],
      "execution_count": 44,
      "outputs": [
        {
          "output_type": "execute_result",
          "data": {
            "text/plain": [
              "array([[ 2, -1],\n",
              "       [ 4,  3]])"
            ]
          },
          "metadata": {},
          "execution_count": 44
        }
      ]
    },
    {
      "cell_type": "code",
      "metadata": {
        "id": "dTI9NoyCaUyv"
      },
      "source": [
        "#UKŁADY RÓWNAŃ\n",
        "\n"
      ],
      "execution_count": null,
      "outputs": []
    }
  ]
}